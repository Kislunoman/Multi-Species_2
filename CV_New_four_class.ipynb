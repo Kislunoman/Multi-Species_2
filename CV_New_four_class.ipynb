{
 "cells": [
  {
   "cell_type": "code",
   "execution_count": 1,
   "id": "c22eff3d",
   "metadata": {},
   "outputs": [],
   "source": [
    "import numpy as np # linear algebra\n",
    "from sklearn.metrics import accuracy_score, f1_score, precision_score, confusion_matrix\n",
    "from sklearn.model_selection import StratifiedKFold\n",
    "from PIL import Image\n",
    "import random\n",
    "#Dependencies\n",
    "import tensorflow as tf\n",
    "from tensorflow import keras\n",
    "from tensorflow.keras import layers\n",
    "from tensorflow.keras.models import Sequential\n",
    "from tensorflow.keras.layers import Dense\n",
    "from keras.preprocessing.image import ImageDataGenerator\n",
    "#CNN\n",
    "from tensorflow.keras.layers import Dropout\n",
    "from tensorflow.keras.layers import Flatten\n",
    "from tensorflow.keras.layers import Conv2D\n",
    "from tensorflow.keras.layers import MaxPooling2D\n",
    "from tensorflow.compat.v1 import ConfigProto\n",
    "from tensorflow.compat.v1 import InteractiveSession\n",
    "import warnings\n",
    "import os\n",
    "import shutil\n",
    "from PIL import ImageFile\n",
    "warnings.simplefilter('error', Image.DecompressionBombWarning)\n",
    "ImageFile.LOAD_TRUNCATED_IMAGES = True\n",
    "from PIL import Image\n",
    "Image.MAX_IMAGE_PIXELS = 1000000000\n",
    "from sklearn.metrics import classification_report\n",
    "from sklearn.metrics import confusion_matrix"
   ]
  },
  {
   "cell_type": "code",
   "execution_count": 2,
   "id": "be1458b1",
   "metadata": {},
   "outputs": [],
   "source": [
    "%matplotlib inline\n",
    "import matplotlib.pyplot as plt\n",
    "import matplotlib.image as mpimg\n",
    "from keras.preprocessing.image import ImageDataGenerator\n",
    "from keras.models import Sequential\n",
    "from keras.optimizers import RMSprop\n",
    "from keras.layers import Dense, Flatten, GlobalMaxPooling2D\n",
    "from keras.callbacks import CSVLogger\n",
    "#from livelossplot.keras import PlotLossesCallback\n",
    "import efficientnet.keras as efn\n",
    "\n",
    "from keras.preprocessing.image import ImageDataGenerator\n",
    "from keras import optimizers\n",
    "from keras.models import Sequential, Model \n",
    "from keras.layers import Dropout, Flatten, Dense, GlobalAveragePooling2D\n",
    "from keras import backend as k \n",
    "from keras.callbacks import ModelCheckpoint, LearningRateScheduler, TensorBoard, EarlyStopping\n",
    "from keras.preprocessing import image\n",
    "from keras.applications.vgg16 import preprocess_input\n",
    "import numpy as np"
   ]
  },
  {
   "cell_type": "code",
   "execution_count": 3,
   "id": "80014199",
   "metadata": {},
   "outputs": [],
   "source": [
    "import os\n",
    "os.environ[\"CUDA_VISIBLE_DEVICES\"]=\"4,5\"\n"
   ]
  },
  {
   "cell_type": "code",
   "execution_count": 4,
   "id": "beda2fb5",
   "metadata": {},
   "outputs": [],
   "source": [
    "config = ConfigProto()\n",
    "config.gpu_options.allow_growth = True\n",
    "session = InteractiveSession(config=config)\n"
   ]
  },
  {
   "cell_type": "code",
   "execution_count": null,
   "id": "50907477",
   "metadata": {},
   "outputs": [],
   "source": []
  },
  {
   "cell_type": "code",
   "execution_count": 5,
   "id": "44b7eac1",
   "metadata": {},
   "outputs": [],
   "source": [
    "TRAINING_LOGS_FILE = \"training_logs.csv\"\n",
    "MODEL_SUMMARY_FILE = \"model_summary.txt\""
   ]
  },
  {
   "cell_type": "code",
   "execution_count": 6,
   "id": "c48cd0d9",
   "metadata": {},
   "outputs": [],
   "source": [
    "datasetFolderName='dataset'\n",
    "MODEL_FILENAME=\"model_cv.h5\"\n",
    "sourceFiles=[]\n",
    "classLabels=['Amphibolis','Background', 'Halophila', 'Posidonia']\n",
    "def transferBetweenFolders(source, dest, splitRate):   \n",
    "    global sourceFiles\n",
    "    sourceFiles=os.listdir(source)\n",
    "    if(len(sourceFiles)!=0):\n",
    "        transferFileNumbers=int(len(sourceFiles)*splitRate)\n",
    "        transferIndex=random.sample(range(0, len(sourceFiles)), transferFileNumbers)\n",
    "        for eachIndex in transferIndex:\n",
    "            shutil.move(source+str(sourceFiles[eachIndex]), dest+str(sourceFiles[eachIndex]))\n",
    "    else:\n",
    "        print(\"No file moved. Source empty!\")\n",
    "        \n",
    "def transferAllClassBetweenFolders(source, dest, splitRate):\n",
    "    for label in classLabels:\n",
    "        transferBetweenFolders(datasetFolderName+'/'+source+'/'+label+'/', \n",
    "                               datasetFolderName+'/'+dest+'/'+label+'/', \n",
    "                               splitRate)\n"
   ]
  },
  {
   "cell_type": "code",
   "execution_count": 7,
   "id": "a4074229",
   "metadata": {},
   "outputs": [],
   "source": [
    "# First, check if test folder is empty or not, if not transfer all existing files to train\n",
    "#transferAllClassBetweenFolders('test', 'train', 1.0)\n",
    "# Now, split some part of train data into the test folders.\n",
    "#transferAllClassBetweenFolders('train', 'test', 0.20)\n"
   ]
  },
  {
   "cell_type": "code",
   "execution_count": 8,
   "id": "c08f542b",
   "metadata": {},
   "outputs": [],
   "source": [
    "X=[]\n",
    "Y=[]"
   ]
  },
  {
   "cell_type": "code",
   "execution_count": 9,
   "id": "27c03537",
   "metadata": {},
   "outputs": [],
   "source": [
    "def prepareNameWithLabels(folderName):\n",
    "    sourceFiles=os.listdir(datasetFolderName+'/train/'+folderName)\n",
    "    for val in sourceFiles:\n",
    "        X.append(val)\n",
    "        if(folderName==classLabels[0]):\n",
    "            Y.append(0)\n",
    "        elif(folderName==classLabels[1]):\n",
    "            Y.append(1)\n",
    "        elif(folderName==classLabels[2]):\n",
    "            Y.append(2)\n",
    "        else:\n",
    "            Y.append(3)"
   ]
  },
  {
   "cell_type": "code",
   "execution_count": 10,
   "id": "feceed6a",
   "metadata": {},
   "outputs": [],
   "source": [
    "# Organize file names and class labels in X and Y variables\n",
    "prepareNameWithLabels(classLabels[0])\n",
    "prepareNameWithLabels(classLabels[1])\n",
    "prepareNameWithLabels(classLabels[2]) \n",
    "prepareNameWithLabels(classLabels[3]) \n"
   ]
  },
  {
   "cell_type": "code",
   "execution_count": 11,
   "id": "df328e11",
   "metadata": {},
   "outputs": [],
   "source": [
    "X=np.asarray(X)\n",
    "Y=np.asarray(Y)"
   ]
  },
  {
   "cell_type": "code",
   "execution_count": 12,
   "id": "e441083a",
   "metadata": {},
   "outputs": [],
   "source": [
    "IMAGE_SIZE = 456\n",
    "IMAGE_WIDTH, IMAGE_HEIGHT = IMAGE_SIZE, IMAGE_SIZE\n",
    "#EPOCHS = 10\n",
    "BATCH_SIZE = 32\n",
    "#TEST_SIZE = 30\n",
    "\n",
    "input_shape = (IMAGE_WIDTH, IMAGE_HEIGHT, 3)"
   ]
  },
  {
   "cell_type": "code",
   "execution_count": 13,
   "id": "49c7d05a",
   "metadata": {},
   "outputs": [],
   "source": [
    "csv_logger = CSVLogger(\"training.csv\", separator=',', append=False)"
   ]
  },
  {
   "cell_type": "code",
   "execution_count": 14,
   "id": "2dc945ea",
   "metadata": {},
   "outputs": [],
   "source": [
    "# learning rate\n",
    "\n",
    "#activationFunction='relu'\n",
    "def getModel():\n",
    "    \n",
    "    model = Sequential()\n",
    "    efficient_net = efn.EfficientNetB5(weights='imagenet', include_top=False, input_shape=input_shape)\n",
    "    #efficient_net.trainable = False\n",
    "    for index, layer in enumerate(efficient_net.layers):\n",
    "        if index < 761:\n",
    "            layer.trainable = False\n",
    "\n",
    "  \n",
    "    model.add(efficient_net)\n",
    "    #model.add(GlobalMaxPooling2D())\n",
    "    model.add(Dense(1024, activation='relu'))\n",
    "    model.add(Flatten())\n",
    "    # if dropout_rate > 0:\n",
    "    #     model.add(layers.Dropout(dropout_rate, name=\"dropout_out\"))\n",
    "    # model.add(layers.Dense(256, activation='relu', name=\"fc1\"))\n",
    "    model.add(Dense(4, activation='softmax')) #, name=\"output\"\n",
    "    model.compile(loss='categorical_crossentropy',\n",
    "            optimizer=RMSprop(lr=0.0001),\n",
    "            metrics=['accuracy'])\n",
    "\n",
    "    with open(MODEL_SUMMARY_FILE,\"w\") as fh:\n",
    "        model.summary(print_fn=lambda line: fh.write(line + \"\\n\"))\n",
    "       \n",
    "    return model"
   ]
  },
  {
   "cell_type": "code",
   "execution_count": 15,
   "id": "5da38c98",
   "metadata": {},
   "outputs": [],
   "source": [
    "def my_metrics(y_true, y_pred):\n",
    "    accuracy=accuracy_score(y_true, y_pred)\n",
    "    precision=precision_score(y_true, y_pred,average='weighted')\n",
    "    f1Score=f1_score(y_true, y_pred, average='weighted') \n",
    "    print(\"Accuracy  : {}\".format(accuracy))\n",
    "    print(\"Precision : {}\".format(precision))\n",
    "    print(\"f1Score : {}\".format(f1Score))\n",
    "    cm=confusion_matrix(y_true, y_pred)\n",
    "    print(cm)\n",
    "    return accuracy, precision, f1Score"
   ]
  },
  {
   "cell_type": "code",
   "execution_count": 16,
   "id": "d9ff3891",
   "metadata": {},
   "outputs": [],
   "source": [
    "# input image dimensions\n",
    "img_rows, img_cols =  456, 456\n"
   ]
  },
  {
   "cell_type": "code",
   "execution_count": 17,
   "id": "03cb2b53",
   "metadata": {},
   "outputs": [],
   "source": [
    "train_path=datasetFolderName+'/train/'\n",
    "validation_path=datasetFolderName+'/validation/'\n",
    "test_path=datasetFolderName+'/test/'\n",
    "model=getModel()"
   ]
  },
  {
   "cell_type": "code",
   "execution_count": 23,
   "id": "1859baaf",
   "metadata": {},
   "outputs": [
    {
     "name": "stdout",
     "output_type": "stream",
     "text": [
      "WARNING:tensorflow:`period` argument is deprecated. Please use `save_freq` to specify the frequency in number of batches seen.\n"
     ]
    }
   ],
   "source": [
    "checkpoint = ModelCheckpoint(\"effee44.h5\", monitor='accuracy', verbose=1, save_best_only=True, save_weights_only=False, mode='auto', period=1)\n",
    "early = EarlyStopping(monitor='accuracy', min_delta=0, patience=10, verbose=1, mode='auto')\n"
   ]
  },
  {
   "cell_type": "code",
   "execution_count": 24,
   "id": "40aaf02c",
   "metadata": {},
   "outputs": [
    {
     "name": "stdout",
     "output_type": "stream",
     "text": [
      "Results for fold 1\n",
      "Found 26198 images belonging to 4 classes.\n",
      "Found 5230 images belonging to 4 classes.\n"
     ]
    },
    {
     "name": "stderr",
     "output_type": "stream",
     "text": [
      "/home/noman/anaconda3/envs/tensor2/lib/python3.7/site-packages/tensorflow/python/keras/engine/training.py:1844: UserWarning: `Model.fit_generator` is deprecated and will be removed in a future version. Please use `Model.fit`, which supports generators.\n",
      "  warnings.warn('`Model.fit_generator` is deprecated and '\n"
     ]
    },
    {
     "name": "stdout",
     "output_type": "stream",
     "text": [
      "Epoch 1/1000\n",
      "819/819 [==============================] - 1174s 1s/step - loss: 0.0945 - accuracy: 0.9882\n",
      "\n",
      "Epoch 00001: accuracy improved from -inf to 0.98824, saving model to effee44.h5\n",
      "Epoch 2/1000\n",
      "819/819 [==============================] - 1153s 1s/step - loss: 0.0673 - accuracy: 0.9909\n",
      "\n",
      "Epoch 00002: accuracy improved from 0.98824 to 0.99088, saving model to effee44.h5\n",
      "Epoch 3/1000\n",
      "819/819 [==============================] - 1156s 1s/step - loss: 0.0552 - accuracy: 0.9910\n",
      "\n",
      "Epoch 00003: accuracy improved from 0.99088 to 0.99103, saving model to effee44.h5\n",
      "Epoch 4/1000\n",
      "819/819 [==============================] - 1155s 1s/step - loss: 0.0607 - accuracy: 0.9916\n",
      "\n",
      "Epoch 00004: accuracy improved from 0.99103 to 0.99164, saving model to effee44.h5\n",
      "Epoch 5/1000\n",
      "819/819 [==============================] - 1151s 1s/step - loss: 0.0528 - accuracy: 0.9922\n",
      "\n",
      "Epoch 00005: accuracy improved from 0.99164 to 0.99217, saving model to effee44.h5\n",
      "Epoch 6/1000\n",
      "819/819 [==============================] - 1158s 1s/step - loss: 0.0490 - accuracy: 0.9926\n",
      "\n",
      "Epoch 00006: accuracy improved from 0.99217 to 0.99263, saving model to effee44.h5\n",
      "Epoch 7/1000\n",
      "819/819 [==============================] - 1161s 1s/step - loss: 0.0504 - accuracy: 0.9923\n",
      "\n",
      "Epoch 00007: accuracy did not improve from 0.99263\n",
      "Epoch 8/1000\n",
      "819/819 [==============================] - 1162s 1s/step - loss: 0.0468 - accuracy: 0.9930\n",
      "\n",
      "Epoch 00008: accuracy improved from 0.99263 to 0.99298, saving model to effee44.h5\n",
      "Epoch 9/1000\n",
      "819/819 [==============================] - 1158s 1s/step - loss: 0.0561 - accuracy: 0.9920\n",
      "\n",
      "Epoch 00009: accuracy did not improve from 0.99298\n",
      "Epoch 10/1000\n",
      "819/819 [==============================] - 1156s 1s/step - loss: 0.0477 - accuracy: 0.9926\n",
      "\n",
      "Epoch 00010: accuracy did not improve from 0.99298\n",
      "Epoch 11/1000\n",
      "819/819 [==============================] - 1161s 1s/step - loss: 0.0571 - accuracy: 0.9919\n",
      "\n",
      "Epoch 00011: accuracy did not improve from 0.99298\n",
      "Epoch 12/1000\n",
      "819/819 [==============================] - 1165s 1s/step - loss: 0.0481 - accuracy: 0.9936\n",
      "\n",
      "Epoch 00012: accuracy improved from 0.99298 to 0.99363, saving model to effee44.h5\n",
      "Epoch 13/1000\n",
      "819/819 [==============================] - 1157s 1s/step - loss: 0.0435 - accuracy: 0.9934\n",
      "\n",
      "Epoch 00013: accuracy did not improve from 0.99363\n",
      "Epoch 14/1000\n",
      "819/819 [==============================] - 1164s 1s/step - loss: 0.0443 - accuracy: 0.9927\n",
      "\n",
      "Epoch 00014: accuracy did not improve from 0.99363\n",
      "Epoch 15/1000\n",
      "819/819 [==============================] - 1159s 1s/step - loss: 0.0456 - accuracy: 0.9930\n",
      "\n",
      "Epoch 00015: accuracy did not improve from 0.99363\n",
      "Epoch 16/1000\n",
      "819/819 [==============================] - 1158s 1s/step - loss: 0.0428 - accuracy: 0.9941\n",
      "\n",
      "Epoch 00016: accuracy improved from 0.99363 to 0.99412, saving model to effee44.h5\n",
      "Epoch 17/1000\n",
      "819/819 [==============================] - 1152s 1s/step - loss: 0.0442 - accuracy: 0.9939\n",
      "\n",
      "Epoch 00017: accuracy did not improve from 0.99412\n",
      "Epoch 18/1000\n",
      "819/819 [==============================] - 1163s 1s/step - loss: 0.0427 - accuracy: 0.9938\n",
      "\n",
      "Epoch 00018: accuracy did not improve from 0.99412\n",
      "Epoch 19/1000\n",
      "819/819 [==============================] - 1160s 1s/step - loss: 0.0465 - accuracy: 0.9937\n",
      "\n",
      "Epoch 00019: accuracy did not improve from 0.99412\n",
      "Epoch 20/1000\n",
      "819/819 [==============================] - 1162s 1s/step - loss: 0.0484 - accuracy: 0.9938\n",
      "\n",
      "Epoch 00020: accuracy did not improve from 0.99412\n",
      "Epoch 21/1000\n",
      "819/819 [==============================] - 1159s 1s/step - loss: 0.0450 - accuracy: 0.9938\n",
      "\n",
      "Epoch 00021: accuracy did not improve from 0.99412\n",
      "Epoch 22/1000\n",
      "819/819 [==============================] - 1159s 1s/step - loss: 0.0377 - accuracy: 0.9941\n",
      "\n",
      "Epoch 00022: accuracy did not improve from 0.99412\n",
      "Epoch 23/1000\n",
      "819/819 [==============================] - 1162s 1s/step - loss: 0.0450 - accuracy: 0.9942\n",
      "\n",
      "Epoch 00023: accuracy improved from 0.99412 to 0.99416, saving model to effee44.h5\n",
      "Epoch 24/1000\n",
      "819/819 [==============================] - 1154s 1s/step - loss: 0.0446 - accuracy: 0.9938\n",
      "\n",
      "Epoch 00024: accuracy did not improve from 0.99416\n",
      "Epoch 25/1000\n",
      "819/819 [==============================] - 1156s 1s/step - loss: 0.0423 - accuracy: 0.9943\n",
      "\n",
      "Epoch 00025: accuracy improved from 0.99416 to 0.99431, saving model to effee44.h5\n",
      "Epoch 26/1000\n",
      "819/819 [==============================] - 1149s 1s/step - loss: 0.0456 - accuracy: 0.9941\n",
      "\n",
      "Epoch 00026: accuracy did not improve from 0.99431\n",
      "Epoch 27/1000\n",
      "819/819 [==============================] - 1158s 1s/step - loss: 0.0467 - accuracy: 0.9942\n",
      "\n",
      "Epoch 00027: accuracy did not improve from 0.99431\n",
      "Epoch 28/1000\n",
      "819/819 [==============================] - 1163s 1s/step - loss: 0.0425 - accuracy: 0.9948\n",
      "\n",
      "Epoch 00028: accuracy improved from 0.99431 to 0.99477, saving model to effee44.h5\n",
      "Epoch 29/1000\n",
      "819/819 [==============================] - 1151s 1s/step - loss: 0.0472 - accuracy: 0.9942\n",
      "\n",
      "Epoch 00029: accuracy did not improve from 0.99477\n",
      "Epoch 30/1000\n",
      "819/819 [==============================] - 1164s 1s/step - loss: 0.0352 - accuracy: 0.9958\n",
      "\n",
      "Epoch 00030: accuracy improved from 0.99477 to 0.99580, saving model to effee44.h5\n",
      "Epoch 31/1000\n",
      "819/819 [==============================] - 1165s 1s/step - loss: 0.0481 - accuracy: 0.9949\n",
      "\n",
      "Epoch 00031: accuracy did not improve from 0.99580\n",
      "Epoch 32/1000\n",
      "819/819 [==============================] - 1162s 1s/step - loss: 0.0429 - accuracy: 0.9948\n",
      "\n",
      "Epoch 00032: accuracy did not improve from 0.99580\n",
      "Epoch 33/1000\n",
      "819/819 [==============================] - 1159s 1s/step - loss: 0.0458 - accuracy: 0.9942\n",
      "\n",
      "Epoch 00033: accuracy did not improve from 0.99580\n",
      "Epoch 34/1000\n",
      "819/819 [==============================] - 1158s 1s/step - loss: 0.0382 - accuracy: 0.9946\n",
      "\n",
      "Epoch 00034: accuracy did not improve from 0.99580\n",
      "Epoch 35/1000\n",
      "819/819 [==============================] - 1164s 1s/step - loss: 0.0390 - accuracy: 0.9947\n",
      "\n",
      "Epoch 00035: accuracy did not improve from 0.99580\n",
      "Epoch 36/1000\n",
      "819/819 [==============================] - 1162s 1s/step - loss: 0.0383 - accuracy: 0.9949\n",
      "\n",
      "Epoch 00036: accuracy did not improve from 0.99580\n",
      "Epoch 37/1000\n",
      "819/819 [==============================] - 1163s 1s/step - loss: 0.0411 - accuracy: 0.9950\n",
      "\n",
      "Epoch 00037: accuracy did not improve from 0.99580\n",
      "Epoch 38/1000\n",
      "819/819 [==============================] - 1164s 1s/step - loss: 0.0428 - accuracy: 0.9955\n",
      "\n",
      "Epoch 00038: accuracy did not improve from 0.99580\n",
      "Epoch 39/1000\n",
      "819/819 [==============================] - 1162s 1s/step - loss: 0.0298 - accuracy: 0.9957\n",
      "\n",
      "Epoch 00039: accuracy did not improve from 0.99580\n",
      "Epoch 40/1000\n",
      "819/819 [==============================] - 1163s 1s/step - loss: 0.0416 - accuracy: 0.9951\n",
      "\n",
      "Epoch 00040: accuracy did not improve from 0.99580\n",
      "Epoch 00040: early stopping\n"
     ]
    },
    {
     "name": "stderr",
     "output_type": "stream",
     "text": [
      "/home/noman/anaconda3/envs/tensor2/lib/python3.7/site-packages/tensorflow/python/keras/engine/training.py:1905: UserWarning: `Model.predict_generator` is deprecated and will be removed in a future version. Please use `Model.predict`, which supports generators.\n",
      "  warnings.warn('`Model.predict_generator` is deprecated and '\n"
     ]
    },
    {
     "name": "stdout",
     "output_type": "stream",
     "text": [
      "              precision    recall  f1-score   support\n",
      "\n",
      "  Amphibolis       1.00      0.99      0.99      1468\n",
      "  Background       1.00      1.00      1.00      1438\n",
      "   Halophila       1.00      1.00      1.00      1066\n",
      "   Posidonia       0.99      1.00      1.00      1258\n",
      "\n",
      "    accuracy                           1.00      5230\n",
      "   macro avg       1.00      1.00      1.00      5230\n",
      "weighted avg       1.00      1.00      1.00      5230\n",
      "\n",
      "[[1455    3    0   10]\n",
      " [   0 1438    0    0]\n",
      " [   1    1 1064    0]\n",
      " [   1    0    0 1257]]\n",
      "Normalized Confusion Matrix\n",
      "[[9.91144414e-01 2.04359673e-03 0.00000000e+00 6.81198910e-03]\n",
      " [0.00000000e+00 1.00000000e+00 0.00000000e+00 0.00000000e+00]\n",
      " [9.38086304e-04 9.38086304e-04 9.98123827e-01 0.00000000e+00]\n",
      " [7.94912560e-04 0.00000000e+00 0.00000000e+00 9.99205087e-01]]\n",
      "****************************************\n",
      "Results for fold 2\n"
     ]
    },
    {
     "name": "stderr",
     "output_type": "stream",
     "text": [
      "/home/noman/anaconda3/envs/tensor2/lib/python3.7/site-packages/ipykernel_launcher.py:65: DeprecationWarning: `np.float` is a deprecated alias for the builtin `float`. To silence this warning, use `float` by itself. Doing this will not modify any behavior and is safe. If you specifically wanted the numpy scalar type, use `np.float64` here.\n",
      "Deprecated in NumPy 1.20; for more details and guidance: https://numpy.org/devdocs/release/1.20.0-notes.html#deprecations\n"
     ]
    },
    {
     "name": "stdout",
     "output_type": "stream",
     "text": [
      "Found 26198 images belonging to 4 classes.\n",
      "Found 5230 images belonging to 4 classes.\n"
     ]
    },
    {
     "name": "stderr",
     "output_type": "stream",
     "text": [
      "/home/noman/anaconda3/envs/tensor2/lib/python3.7/site-packages/tensorflow/python/keras/engine/training.py:1844: UserWarning: `Model.fit_generator` is deprecated and will be removed in a future version. Please use `Model.fit`, which supports generators.\n",
      "  warnings.warn('`Model.fit_generator` is deprecated and '\n"
     ]
    },
    {
     "name": "stdout",
     "output_type": "stream",
     "text": [
      "Epoch 1/1000\n",
      "819/819 [==============================] - 1170s 1s/step - loss: 0.0619 - accuracy: 0.9939\n",
      "\n",
      "Epoch 00001: accuracy did not improve from 0.99580\n",
      "Epoch 2/1000\n",
      "819/819 [==============================] - 1167s 1s/step - loss: 0.0548 - accuracy: 0.9935\n",
      "\n",
      "Epoch 00002: accuracy did not improve from 0.99580\n",
      "Epoch 3/1000\n",
      "819/819 [==============================] - 1164s 1s/step - loss: 0.0494 - accuracy: 0.9947\n",
      "\n",
      "Epoch 00003: accuracy did not improve from 0.99580\n",
      "Epoch 4/1000\n",
      "819/819 [==============================] - 1158s 1s/step - loss: 0.0448 - accuracy: 0.9943\n",
      "\n",
      "Epoch 00004: accuracy did not improve from 0.99580\n",
      "Epoch 5/1000\n",
      "819/819 [==============================] - 1159s 1s/step - loss: 0.0417 - accuracy: 0.9951\n",
      "\n",
      "Epoch 00005: accuracy did not improve from 0.99580\n",
      "Epoch 6/1000\n",
      "819/819 [==============================] - 1166s 1s/step - loss: 0.0404 - accuracy: 0.9953\n",
      "\n",
      "Epoch 00006: accuracy did not improve from 0.99580\n",
      "Epoch 7/1000\n",
      "819/819 [==============================] - 1160s 1s/step - loss: 0.0506 - accuracy: 0.9937\n",
      "\n",
      "Epoch 00007: accuracy did not improve from 0.99580\n",
      "Epoch 8/1000\n",
      "819/819 [==============================] - 1163s 1s/step - loss: 0.0418 - accuracy: 0.9951\n",
      "\n",
      "Epoch 00008: accuracy did not improve from 0.99580\n",
      "Epoch 9/1000\n",
      "819/819 [==============================] - 1166s 1s/step - loss: 0.0482 - accuracy: 0.9945\n",
      "\n",
      "Epoch 00009: accuracy did not improve from 0.99580\n",
      "Epoch 10/1000\n",
      "819/819 [==============================] - 1161s 1s/step - loss: 0.0482 - accuracy: 0.9950\n",
      "\n",
      "Epoch 00010: accuracy did not improve from 0.99580\n",
      "Epoch 11/1000\n",
      "819/819 [==============================] - 1167s 1s/step - loss: 0.0439 - accuracy: 0.9947\n",
      "\n",
      "Epoch 00011: accuracy did not improve from 0.99580\n",
      "Epoch 12/1000\n",
      "819/819 [==============================] - 1164s 1s/step - loss: 0.0400 - accuracy: 0.9954\n",
      "\n",
      "Epoch 00012: accuracy did not improve from 0.99580\n",
      "Epoch 13/1000\n",
      "819/819 [==============================] - 1159s 1s/step - loss: 0.0471 - accuracy: 0.9952\n",
      "\n",
      "Epoch 00013: accuracy did not improve from 0.99580\n",
      "Epoch 14/1000\n",
      "819/819 [==============================] - 1166s 1s/step - loss: 0.0370 - accuracy: 0.9953\n",
      "\n",
      "Epoch 00014: accuracy did not improve from 0.99580\n",
      "Epoch 15/1000\n",
      "819/819 [==============================] - 1161s 1s/step - loss: 0.0457 - accuracy: 0.9950\n",
      "\n",
      "Epoch 00015: accuracy did not improve from 0.99580\n",
      "Epoch 16/1000\n",
      "819/819 [==============================] - 1164s 1s/step - loss: 0.0470 - accuracy: 0.9947\n",
      "\n",
      "Epoch 00016: accuracy did not improve from 0.99580\n",
      "Epoch 17/1000\n",
      "819/819 [==============================] - 1163s 1s/step - loss: 0.0388 - accuracy: 0.9955\n",
      "\n",
      "Epoch 00017: accuracy did not improve from 0.99580\n",
      "Epoch 18/1000\n",
      "819/819 [==============================] - 1165s 1s/step - loss: 0.0449 - accuracy: 0.9953\n",
      "\n",
      "Epoch 00018: accuracy did not improve from 0.99580\n",
      "Epoch 19/1000\n",
      "819/819 [==============================] - 1157s 1s/step - loss: 0.0427 - accuracy: 0.9953\n",
      "\n",
      "Epoch 00019: accuracy did not improve from 0.99580\n",
      "Epoch 20/1000\n",
      "819/819 [==============================] - 1160s 1s/step - loss: 0.0452 - accuracy: 0.9955\n",
      "\n",
      "Epoch 00020: accuracy did not improve from 0.99580\n",
      "Epoch 21/1000\n",
      "819/819 [==============================] - 1163s 1s/step - loss: 0.0417 - accuracy: 0.9949\n",
      "\n",
      "Epoch 00021: accuracy did not improve from 0.99580\n",
      "Epoch 22/1000\n",
      "819/819 [==============================] - 1162s 1s/step - loss: 0.0346 - accuracy: 0.9954\n",
      "\n",
      "Epoch 00022: accuracy did not improve from 0.99580\n",
      "Epoch 23/1000\n",
      "819/819 [==============================] - 1164s 1s/step - loss: 0.0416 - accuracy: 0.9960\n",
      "\n",
      "Epoch 00023: accuracy improved from 0.99580 to 0.99595, saving model to effee44.h5\n",
      "Epoch 24/1000\n",
      "819/819 [==============================] - 1153s 1s/step - loss: 0.0490 - accuracy: 0.9951\n",
      "\n",
      "Epoch 00024: accuracy did not improve from 0.99595\n",
      "Epoch 25/1000\n",
      "819/819 [==============================] - 1167s 1s/step - loss: 0.0426 - accuracy: 0.9956\n",
      "\n",
      "Epoch 00025: accuracy did not improve from 0.99595\n",
      "Epoch 26/1000\n",
      "819/819 [==============================] - 1163s 1s/step - loss: 0.0330 - accuracy: 0.9962\n",
      "\n",
      "Epoch 00026: accuracy improved from 0.99595 to 0.99622, saving model to effee44.h5\n",
      "Epoch 27/1000\n",
      "819/819 [==============================] - 1153s 1s/step - loss: 0.0464 - accuracy: 0.9949\n",
      "\n",
      "Epoch 00027: accuracy did not improve from 0.99622\n",
      "Epoch 28/1000\n",
      "819/819 [==============================] - 1163s 1s/step - loss: 0.0420 - accuracy: 0.9954\n",
      "\n",
      "Epoch 00028: accuracy did not improve from 0.99622\n",
      "Epoch 29/1000\n",
      "819/819 [==============================] - 1163s 1s/step - loss: 0.0467 - accuracy: 0.9955\n",
      "\n",
      "Epoch 00029: accuracy did not improve from 0.99622\n",
      "Epoch 30/1000\n",
      "819/819 [==============================] - 1164s 1s/step - loss: 0.0344 - accuracy: 0.9958\n",
      "\n",
      "Epoch 00030: accuracy did not improve from 0.99622\n",
      "Epoch 31/1000\n",
      "819/819 [==============================] - 1162s 1s/step - loss: 0.0445 - accuracy: 0.9957\n",
      "\n",
      "Epoch 00031: accuracy did not improve from 0.99622\n",
      "Epoch 32/1000\n",
      "819/819 [==============================] - 1161s 1s/step - loss: 0.0442 - accuracy: 0.9960\n",
      "\n",
      "Epoch 00032: accuracy did not improve from 0.99622\n",
      "Epoch 33/1000\n",
      "819/819 [==============================] - 1163s 1s/step - loss: 0.0382 - accuracy: 0.9965\n",
      "\n",
      "Epoch 00033: accuracy improved from 0.99622 to 0.99653, saving model to effee44.h5\n",
      "Epoch 34/1000\n",
      "819/819 [==============================] - 1156s 1s/step - loss: 0.0384 - accuracy: 0.9956\n",
      "\n",
      "Epoch 00034: accuracy did not improve from 0.99653\n",
      "Epoch 35/1000\n",
      "819/819 [==============================] - 1163s 1s/step - loss: 0.0398 - accuracy: 0.9955\n",
      "\n",
      "Epoch 00035: accuracy did not improve from 0.99653\n",
      "Epoch 36/1000\n",
      "819/819 [==============================] - 1170s 1s/step - loss: 0.0341 - accuracy: 0.9961\n",
      "\n",
      "Epoch 00036: accuracy did not improve from 0.99653\n",
      "Epoch 37/1000\n",
      "819/819 [==============================] - 1161s 1s/step - loss: 0.0366 - accuracy: 0.9961\n",
      "\n",
      "Epoch 00037: accuracy did not improve from 0.99653\n",
      "Epoch 38/1000\n",
      "819/819 [==============================] - 1165s 1s/step - loss: 0.0444 - accuracy: 0.9957\n",
      "\n",
      "Epoch 00038: accuracy did not improve from 0.99653\n",
      "Epoch 39/1000\n",
      "819/819 [==============================] - 1148s 1s/step - loss: 0.0352 - accuracy: 0.9969\n",
      "\n",
      "Epoch 00039: accuracy improved from 0.99653 to 0.99695, saving model to effee44.h5\n",
      "Epoch 40/1000\n",
      "819/819 [==============================] - 1154s 1s/step - loss: 0.0364 - accuracy: 0.9962\n",
      "\n",
      "Epoch 00040: accuracy did not improve from 0.99695\n",
      "Epoch 41/1000\n",
      "819/819 [==============================] - 1163s 1s/step - loss: 0.0380 - accuracy: 0.9962\n",
      "\n",
      "Epoch 00041: accuracy did not improve from 0.99695\n",
      "Epoch 42/1000\n",
      "819/819 [==============================] - 1161s 1s/step - loss: 0.0325 - accuracy: 0.9969\n",
      "\n",
      "Epoch 00042: accuracy did not improve from 0.99695\n",
      "Epoch 43/1000\n",
      "819/819 [==============================] - 1157s 1s/step - loss: 0.0375 - accuracy: 0.9960\n",
      "\n",
      "Epoch 00043: accuracy did not improve from 0.99695\n",
      "Epoch 44/1000\n",
      "819/819 [==============================] - 1156s 1s/step - loss: 0.0474 - accuracy: 0.9953\n",
      "\n",
      "Epoch 00044: accuracy did not improve from 0.99695\n",
      "Epoch 45/1000\n",
      "819/819 [==============================] - 1152s 1s/step - loss: 0.0438 - accuracy: 0.9959\n",
      "\n",
      "Epoch 00045: accuracy did not improve from 0.99695\n",
      "Epoch 46/1000\n",
      "819/819 [==============================] - 1162s 1s/step - loss: 0.0377 - accuracy: 0.9961\n",
      "\n",
      "Epoch 00046: accuracy did not improve from 0.99695\n",
      "Epoch 47/1000\n",
      "819/819 [==============================] - 1164s 1s/step - loss: 0.0356 - accuracy: 0.9963\n",
      "\n",
      "Epoch 00047: accuracy did not improve from 0.99695\n",
      "Epoch 48/1000\n",
      "819/819 [==============================] - 1164s 1s/step - loss: 0.0441 - accuracy: 0.9963\n",
      "\n",
      "Epoch 00048: accuracy did not improve from 0.99695\n",
      "Epoch 49/1000\n",
      "819/819 [==============================] - 1164s 1s/step - loss: 0.0413 - accuracy: 0.9961\n",
      "\n",
      "Epoch 00049: accuracy did not improve from 0.99695\n",
      "Epoch 00049: early stopping\n"
     ]
    },
    {
     "name": "stderr",
     "output_type": "stream",
     "text": [
      "/home/noman/anaconda3/envs/tensor2/lib/python3.7/site-packages/tensorflow/python/keras/engine/training.py:1905: UserWarning: `Model.predict_generator` is deprecated and will be removed in a future version. Please use `Model.predict`, which supports generators.\n",
      "  warnings.warn('`Model.predict_generator` is deprecated and '\n"
     ]
    },
    {
     "name": "stdout",
     "output_type": "stream",
     "text": [
      "              precision    recall  f1-score   support\n",
      "\n",
      "  Amphibolis       0.99      1.00      1.00      1468\n",
      "  Background       1.00      1.00      1.00      1437\n",
      "   Halophila       1.00      1.00      1.00      1067\n",
      "   Posidonia       1.00      0.99      1.00      1258\n",
      "\n",
      "    accuracy                           1.00      5230\n",
      "   macro avg       1.00      1.00      1.00      5230\n",
      "weighted avg       1.00      1.00      1.00      5230\n",
      "\n",
      "[[1468    0    0    0]\n",
      " [   6 1431    0    0]\n",
      " [   0    0 1067    0]\n",
      " [   8    0    0 1250]]\n",
      "Normalized Confusion Matrix\n",
      "[[1.         0.         0.         0.        ]\n",
      " [0.00417537 0.99582463 0.         0.        ]\n",
      " [0.         0.         1.         0.        ]\n",
      " [0.0063593  0.         0.         0.9936407 ]]\n",
      "****************************************\n",
      "Results for fold 3\n"
     ]
    },
    {
     "name": "stderr",
     "output_type": "stream",
     "text": [
      "/home/noman/anaconda3/envs/tensor2/lib/python3.7/site-packages/ipykernel_launcher.py:65: DeprecationWarning: `np.float` is a deprecated alias for the builtin `float`. To silence this warning, use `float` by itself. Doing this will not modify any behavior and is safe. If you specifically wanted the numpy scalar type, use `np.float64` here.\n",
      "Deprecated in NumPy 1.20; for more details and guidance: https://numpy.org/devdocs/release/1.20.0-notes.html#deprecations\n"
     ]
    },
    {
     "name": "stdout",
     "output_type": "stream",
     "text": [
      "Found 26198 images belonging to 4 classes.\n",
      "Found 5230 images belonging to 4 classes.\n"
     ]
    },
    {
     "name": "stderr",
     "output_type": "stream",
     "text": [
      "/home/noman/anaconda3/envs/tensor2/lib/python3.7/site-packages/tensorflow/python/keras/engine/training.py:1844: UserWarning: `Model.fit_generator` is deprecated and will be removed in a future version. Please use `Model.fit`, which supports generators.\n",
      "  warnings.warn('`Model.fit_generator` is deprecated and '\n"
     ]
    },
    {
     "name": "stdout",
     "output_type": "stream",
     "text": [
      "Epoch 1/1000\n",
      "819/819 [==============================] - 1157s 1s/step - loss: 0.0512 - accuracy: 0.9953\n",
      "\n",
      "Epoch 00001: accuracy did not improve from 0.99695\n",
      "Epoch 2/1000\n",
      "819/819 [==============================] - 1164s 1s/step - loss: 0.0501 - accuracy: 0.9951\n",
      "\n",
      "Epoch 00002: accuracy did not improve from 0.99695\n",
      "Epoch 3/1000\n",
      "819/819 [==============================] - 1164s 1s/step - loss: 0.0461 - accuracy: 0.9962\n",
      "\n",
      "Epoch 00003: accuracy did not improve from 0.99695\n",
      "Epoch 4/1000\n",
      "819/819 [==============================] - 1160s 1s/step - loss: 0.0455 - accuracy: 0.9953\n",
      "\n",
      "Epoch 00004: accuracy did not improve from 0.99695\n",
      "Epoch 5/1000\n",
      "819/819 [==============================] - 1159s 1s/step - loss: 0.0382 - accuracy: 0.9956\n",
      "\n",
      "Epoch 00005: accuracy did not improve from 0.99695\n",
      "Epoch 6/1000\n",
      "819/819 [==============================] - 1167s 1s/step - loss: 0.0406 - accuracy: 0.9960\n",
      "\n",
      "Epoch 00006: accuracy did not improve from 0.99695\n",
      "Epoch 7/1000\n",
      "819/819 [==============================] - 1165s 1s/step - loss: 0.0369 - accuracy: 0.9957\n",
      "\n",
      "Epoch 00007: accuracy did not improve from 0.99695\n",
      "Epoch 8/1000\n",
      "819/819 [==============================] - 1161s 1s/step - loss: 0.0527 - accuracy: 0.9953\n",
      "\n",
      "Epoch 00008: accuracy did not improve from 0.99695\n",
      "Epoch 9/1000\n",
      "819/819 [==============================] - 1164s 1s/step - loss: 0.0425 - accuracy: 0.9960\n",
      "\n",
      "Epoch 00009: accuracy did not improve from 0.99695\n",
      "Epoch 10/1000\n",
      "819/819 [==============================] - 1160s 1s/step - loss: 0.0459 - accuracy: 0.9962\n",
      "\n",
      "Epoch 00010: accuracy did not improve from 0.99695\n",
      "Epoch 11/1000\n",
      "819/819 [==============================] - 1163s 1s/step - loss: 0.0485 - accuracy: 0.9960\n",
      "\n",
      "Epoch 00011: accuracy did not improve from 0.99695\n",
      "Epoch 12/1000\n",
      "819/819 [==============================] - 1162s 1s/step - loss: 0.0360 - accuracy: 0.9962\n",
      "\n",
      "Epoch 00012: accuracy did not improve from 0.99695\n",
      "Epoch 13/1000\n",
      "819/819 [==============================] - 1149s 1s/step - loss: 0.0377 - accuracy: 0.9960\n",
      "\n",
      "Epoch 00013: accuracy did not improve from 0.99695\n",
      "Epoch 14/1000\n",
      "819/819 [==============================] - 1159s 1s/step - loss: 0.0397 - accuracy: 0.9965\n",
      "\n",
      "Epoch 00014: accuracy did not improve from 0.99695\n",
      "Epoch 15/1000\n",
      "819/819 [==============================] - 1153s 1s/step - loss: 0.0384 - accuracy: 0.9961\n",
      "\n",
      "Epoch 00015: accuracy did not improve from 0.99695\n",
      "Epoch 16/1000\n",
      "819/819 [==============================] - 1168s 1s/step - loss: 0.0354 - accuracy: 0.9967\n",
      "\n",
      "Epoch 00016: accuracy did not improve from 0.99695\n",
      "Epoch 17/1000\n",
      "819/819 [==============================] - 1160s 1s/step - loss: 0.0401 - accuracy: 0.9964\n",
      "\n",
      "Epoch 00017: accuracy did not improve from 0.99695\n",
      "Epoch 18/1000\n",
      "819/819 [==============================] - 1162s 1s/step - loss: 0.0365 - accuracy: 0.9954\n",
      "\n",
      "Epoch 00018: accuracy did not improve from 0.99695\n",
      "Epoch 19/1000\n",
      "819/819 [==============================] - 1160s 1s/step - loss: 0.0352 - accuracy: 0.9965\n",
      "\n",
      "Epoch 00019: accuracy did not improve from 0.99695\n",
      "Epoch 20/1000\n",
      "819/819 [==============================] - 1158s 1s/step - loss: 0.0332 - accuracy: 0.9963\n",
      "\n",
      "Epoch 00020: accuracy did not improve from 0.99695\n",
      "Epoch 21/1000\n",
      "819/819 [==============================] - 1150s 1s/step - loss: 0.0437 - accuracy: 0.9959\n",
      "\n",
      "Epoch 00021: accuracy did not improve from 0.99695\n",
      "Epoch 22/1000\n",
      "819/819 [==============================] - 1162s 1s/step - loss: 0.0279 - accuracy: 0.9969\n",
      "\n",
      "Epoch 00022: accuracy did not improve from 0.99695\n",
      "Epoch 23/1000\n",
      "819/819 [==============================] - 1163s 1s/step - loss: 0.0337 - accuracy: 0.9968\n",
      "\n",
      "Epoch 00023: accuracy did not improve from 0.99695\n",
      "Epoch 24/1000\n",
      "819/819 [==============================] - 1158s 1s/step - loss: 0.0344 - accuracy: 0.9962\n",
      "\n",
      "Epoch 00024: accuracy did not improve from 0.99695\n",
      "Epoch 25/1000\n",
      "819/819 [==============================] - 1162s 1s/step - loss: 0.0375 - accuracy: 0.9967\n",
      "\n",
      "Epoch 00025: accuracy did not improve from 0.99695\n",
      "Epoch 26/1000\n",
      "819/819 [==============================] - 1162s 1s/step - loss: 0.0396 - accuracy: 0.9960\n",
      "\n",
      "Epoch 00026: accuracy did not improve from 0.99695\n",
      "Epoch 27/1000\n",
      "819/819 [==============================] - 1167s 1s/step - loss: 0.0347 - accuracy: 0.9966\n",
      "\n",
      "Epoch 00027: accuracy did not improve from 0.99695\n",
      "Epoch 28/1000\n",
      "819/819 [==============================] - 1163s 1s/step - loss: 0.0282 - accuracy: 0.9970\n",
      "\n",
      "Epoch 00028: accuracy improved from 0.99695 to 0.99702, saving model to effee44.h5\n",
      "Epoch 29/1000\n",
      "819/819 [==============================] - 1158s 1s/step - loss: 0.0467 - accuracy: 0.9963\n",
      "\n",
      "Epoch 00029: accuracy did not improve from 0.99702\n",
      "Epoch 30/1000\n",
      "819/819 [==============================] - 1160s 1s/step - loss: 0.0403 - accuracy: 0.9964\n",
      "\n",
      "Epoch 00030: accuracy did not improve from 0.99702\n",
      "Epoch 31/1000\n",
      "819/819 [==============================] - 1160s 1s/step - loss: 0.0293 - accuracy: 0.9973\n",
      "\n",
      "Epoch 00031: accuracy improved from 0.99702 to 0.99733, saving model to effee44.h5\n",
      "Epoch 32/1000\n",
      "819/819 [==============================] - 1150s 1s/step - loss: 0.0400 - accuracy: 0.9964\n",
      "\n",
      "Epoch 00032: accuracy did not improve from 0.99733\n",
      "Epoch 33/1000\n",
      "819/819 [==============================] - 1162s 1s/step - loss: 0.0343 - accuracy: 0.9958\n",
      "\n",
      "Epoch 00033: accuracy did not improve from 0.99733\n",
      "Epoch 34/1000\n",
      "819/819 [==============================] - 1160s 1s/step - loss: 0.0290 - accuracy: 0.9969\n",
      "\n",
      "Epoch 00034: accuracy did not improve from 0.99733\n",
      "Epoch 35/1000\n",
      "819/819 [==============================] - 1160s 1s/step - loss: 0.0351 - accuracy: 0.9968\n",
      "\n",
      "Epoch 00035: accuracy did not improve from 0.99733\n",
      "Epoch 36/1000\n",
      "819/819 [==============================] - 1162s 1s/step - loss: 0.0381 - accuracy: 0.9966\n",
      "\n",
      "Epoch 00036: accuracy did not improve from 0.99733\n",
      "Epoch 37/1000\n",
      "819/819 [==============================] - 1164s 1s/step - loss: 0.0390 - accuracy: 0.9963\n",
      "\n",
      "Epoch 00037: accuracy did not improve from 0.99733\n",
      "Epoch 38/1000\n",
      "819/819 [==============================] - 1162s 1s/step - loss: 0.0395 - accuracy: 0.9964\n",
      "\n",
      "Epoch 00038: accuracy did not improve from 0.99733\n",
      "Epoch 39/1000\n",
      "819/819 [==============================] - 1165s 1s/step - loss: 0.0460 - accuracy: 0.9961\n",
      "\n",
      "Epoch 00039: accuracy did not improve from 0.99733\n",
      "Epoch 40/1000\n",
      "819/819 [==============================] - 1161s 1s/step - loss: 0.0358 - accuracy: 0.9970\n",
      "\n",
      "Epoch 00040: accuracy did not improve from 0.99733\n",
      "Epoch 41/1000\n",
      "819/819 [==============================] - 1161s 1s/step - loss: 0.0405 - accuracy: 0.9965\n",
      "\n",
      "Epoch 00041: accuracy did not improve from 0.99733\n",
      "Epoch 00041: early stopping\n"
     ]
    },
    {
     "name": "stderr",
     "output_type": "stream",
     "text": [
      "/home/noman/anaconda3/envs/tensor2/lib/python3.7/site-packages/tensorflow/python/keras/engine/training.py:1905: UserWarning: `Model.predict_generator` is deprecated and will be removed in a future version. Please use `Model.predict`, which supports generators.\n",
      "  warnings.warn('`Model.predict_generator` is deprecated and '\n"
     ]
    },
    {
     "name": "stdout",
     "output_type": "stream",
     "text": [
      "              precision    recall  f1-score   support\n",
      "\n",
      "  Amphibolis       1.00      1.00      1.00      1468\n",
      "  Background       1.00      1.00      1.00      1437\n",
      "   Halophila       1.00      1.00      1.00      1067\n",
      "   Posidonia       1.00      1.00      1.00      1258\n",
      "\n",
      "    accuracy                           1.00      5230\n",
      "   macro avg       1.00      1.00      1.00      5230\n",
      "weighted avg       1.00      1.00      1.00      5230\n",
      "\n",
      "[[1468    0    0    0]\n",
      " [   2 1435    0    0]\n",
      " [   0    0 1067    0]\n",
      " [   5    0    0 1253]]\n",
      "Normalized Confusion Matrix\n",
      "[[1.         0.         0.         0.        ]\n",
      " [0.00139179 0.99860821 0.         0.        ]\n",
      " [0.         0.         1.         0.        ]\n",
      " [0.00397456 0.         0.         0.99602544]]\n",
      "****************************************\n",
      "Results for fold 4\n"
     ]
    },
    {
     "name": "stderr",
     "output_type": "stream",
     "text": [
      "/home/noman/anaconda3/envs/tensor2/lib/python3.7/site-packages/ipykernel_launcher.py:65: DeprecationWarning: `np.float` is a deprecated alias for the builtin `float`. To silence this warning, use `float` by itself. Doing this will not modify any behavior and is safe. If you specifically wanted the numpy scalar type, use `np.float64` here.\n",
      "Deprecated in NumPy 1.20; for more details and guidance: https://numpy.org/devdocs/release/1.20.0-notes.html#deprecations\n"
     ]
    },
    {
     "name": "stdout",
     "output_type": "stream",
     "text": [
      "Found 26199 images belonging to 4 classes.\n",
      "Found 5229 images belonging to 4 classes.\n"
     ]
    },
    {
     "name": "stderr",
     "output_type": "stream",
     "text": [
      "/home/noman/anaconda3/envs/tensor2/lib/python3.7/site-packages/tensorflow/python/keras/engine/training.py:1844: UserWarning: `Model.fit_generator` is deprecated and will be removed in a future version. Please use `Model.fit`, which supports generators.\n",
      "  warnings.warn('`Model.fit_generator` is deprecated and '\n"
     ]
    },
    {
     "name": "stdout",
     "output_type": "stream",
     "text": [
      "Epoch 1/1000\n",
      "819/819 [==============================] - 1157s 1s/step - loss: 0.0551 - accuracy: 0.9955\n",
      "\n",
      "Epoch 00001: accuracy did not improve from 0.99733\n",
      "Epoch 2/1000\n",
      "819/819 [==============================] - 1165s 1s/step - loss: 0.0484 - accuracy: 0.9959\n",
      "\n",
      "Epoch 00002: accuracy did not improve from 0.99733\n",
      "Epoch 3/1000\n",
      "819/819 [==============================] - 1161s 1s/step - loss: 0.0408 - accuracy: 0.9963\n",
      "\n",
      "Epoch 00003: accuracy did not improve from 0.99733\n",
      "Epoch 4/1000\n",
      "819/819 [==============================] - 1155s 1s/step - loss: 0.0349 - accuracy: 0.9969\n",
      "\n",
      "Epoch 00004: accuracy did not improve from 0.99733\n",
      "Epoch 5/1000\n",
      "819/819 [==============================] - 1161s 1s/step - loss: 0.0370 - accuracy: 0.9968\n",
      "\n",
      "Epoch 00005: accuracy did not improve from 0.99733\n",
      "Epoch 6/1000\n",
      "819/819 [==============================] - 1161s 1s/step - loss: 0.0463 - accuracy: 0.9959\n",
      "\n",
      "Epoch 00006: accuracy did not improve from 0.99733\n",
      "Epoch 7/1000\n",
      "819/819 [==============================] - 1161s 1s/step - loss: 0.0374 - accuracy: 0.9967\n",
      "\n",
      "Epoch 00007: accuracy did not improve from 0.99733\n",
      "Epoch 8/1000\n",
      "819/819 [==============================] - 1162s 1s/step - loss: 0.0448 - accuracy: 0.9965\n",
      "\n",
      "Epoch 00008: accuracy did not improve from 0.99733\n",
      "Epoch 9/1000\n",
      "819/819 [==============================] - 1162s 1s/step - loss: 0.0251 - accuracy: 0.9975\n",
      "\n",
      "Epoch 00009: accuracy improved from 0.99733 to 0.99748, saving model to effee44.h5\n",
      "Epoch 10/1000\n",
      "819/819 [==============================] - 1159s 1s/step - loss: 0.0249 - accuracy: 0.9973\n",
      "\n",
      "Epoch 00010: accuracy did not improve from 0.99748\n",
      "Epoch 11/1000\n",
      "819/819 [==============================] - 1163s 1s/step - loss: 0.0411 - accuracy: 0.9965\n",
      "\n",
      "Epoch 00011: accuracy did not improve from 0.99748\n",
      "Epoch 12/1000\n",
      "819/819 [==============================] - 1160s 1s/step - loss: 0.0455 - accuracy: 0.9962\n",
      "\n",
      "Epoch 00012: accuracy did not improve from 0.99748\n",
      "Epoch 13/1000\n",
      "819/819 [==============================] - 1163s 1s/step - loss: 0.0276 - accuracy: 0.9975\n",
      "\n",
      "Epoch 00013: accuracy did not improve from 0.99748\n",
      "Epoch 14/1000\n",
      "819/819 [==============================] - 1164s 1s/step - loss: 0.0317 - accuracy: 0.9971\n",
      "\n",
      "Epoch 00014: accuracy did not improve from 0.99748\n",
      "Epoch 15/1000\n",
      "819/819 [==============================] - 1166s 1s/step - loss: 0.0308 - accuracy: 0.9970\n",
      "\n",
      "Epoch 00015: accuracy did not improve from 0.99748\n",
      "Epoch 16/1000\n",
      "819/819 [==============================] - 1165s 1s/step - loss: 0.0352 - accuracy: 0.9970\n",
      "\n",
      "Epoch 00016: accuracy did not improve from 0.99748\n",
      "Epoch 17/1000\n",
      "819/819 [==============================] - 1162s 1s/step - loss: 0.0306 - accuracy: 0.9968\n",
      "\n",
      "Epoch 00017: accuracy did not improve from 0.99748\n",
      "Epoch 18/1000\n",
      "819/819 [==============================] - 1159s 1s/step - loss: 0.0383 - accuracy: 0.9969\n",
      "\n",
      "Epoch 00018: accuracy did not improve from 0.99748\n",
      "Epoch 19/1000\n",
      "819/819 [==============================] - 1164s 1s/step - loss: 0.0385 - accuracy: 0.9966\n",
      "\n",
      "Epoch 00019: accuracy did not improve from 0.99748\n",
      "Epoch 00019: early stopping\n"
     ]
    },
    {
     "name": "stderr",
     "output_type": "stream",
     "text": [
      "/home/noman/anaconda3/envs/tensor2/lib/python3.7/site-packages/tensorflow/python/keras/engine/training.py:1905: UserWarning: `Model.predict_generator` is deprecated and will be removed in a future version. Please use `Model.predict`, which supports generators.\n",
      "  warnings.warn('`Model.predict_generator` is deprecated and '\n"
     ]
    },
    {
     "name": "stdout",
     "output_type": "stream",
     "text": [
      "              precision    recall  f1-score   support\n",
      "\n",
      "  Amphibolis       1.00      1.00      1.00      1467\n",
      "  Background       1.00      1.00      1.00      1438\n",
      "   Halophila       1.00      1.00      1.00      1066\n",
      "   Posidonia       1.00      1.00      1.00      1258\n",
      "\n",
      "    accuracy                           1.00      5229\n",
      "   macro avg       1.00      1.00      1.00      5229\n",
      "weighted avg       1.00      1.00      1.00      5229\n",
      "\n",
      "[[1467    0    0    0]\n",
      " [   2 1436    0    0]\n",
      " [   0    0 1066    0]\n",
      " [   1    0    0 1257]]\n",
      "Normalized Confusion Matrix\n",
      "[[1.00000000e+00 0.00000000e+00 0.00000000e+00 0.00000000e+00]\n",
      " [1.39082058e-03 9.98609179e-01 0.00000000e+00 0.00000000e+00]\n",
      " [0.00000000e+00 0.00000000e+00 1.00000000e+00 0.00000000e+00]\n",
      " [7.94912560e-04 0.00000000e+00 0.00000000e+00 9.99205087e-01]]\n",
      "****************************************\n",
      "Results for fold 5\n"
     ]
    },
    {
     "name": "stderr",
     "output_type": "stream",
     "text": [
      "/home/noman/anaconda3/envs/tensor2/lib/python3.7/site-packages/ipykernel_launcher.py:65: DeprecationWarning: `np.float` is a deprecated alias for the builtin `float`. To silence this warning, use `float` by itself. Doing this will not modify any behavior and is safe. If you specifically wanted the numpy scalar type, use `np.float64` here.\n",
      "Deprecated in NumPy 1.20; for more details and guidance: https://numpy.org/devdocs/release/1.20.0-notes.html#deprecations\n"
     ]
    },
    {
     "name": "stdout",
     "output_type": "stream",
     "text": [
      "Found 26199 images belonging to 4 classes.\n",
      "Found 5229 images belonging to 4 classes.\n"
     ]
    },
    {
     "name": "stderr",
     "output_type": "stream",
     "text": [
      "/home/noman/anaconda3/envs/tensor2/lib/python3.7/site-packages/tensorflow/python/keras/engine/training.py:1844: UserWarning: `Model.fit_generator` is deprecated and will be removed in a future version. Please use `Model.fit`, which supports generators.\n",
      "  warnings.warn('`Model.fit_generator` is deprecated and '\n"
     ]
    },
    {
     "name": "stdout",
     "output_type": "stream",
     "text": [
      "Epoch 1/1000\n",
      "819/819 [==============================] - 1161s 1s/step - loss: 0.0390 - accuracy: 0.9968\n",
      "\n",
      "Epoch 00001: accuracy did not improve from 0.99748\n",
      "Epoch 2/1000\n",
      "819/819 [==============================] - 1161s 1s/step - loss: 0.0343 - accuracy: 0.9969\n",
      "\n",
      "Epoch 00002: accuracy did not improve from 0.99748\n",
      "Epoch 3/1000\n",
      "819/819 [==============================] - 1161s 1s/step - loss: 0.0362 - accuracy: 0.9970\n",
      "\n",
      "Epoch 00003: accuracy did not improve from 0.99748\n",
      "Epoch 4/1000\n",
      "819/819 [==============================] - 1161s 1s/step - loss: 0.0393 - accuracy: 0.9968\n",
      "\n",
      "Epoch 00004: accuracy did not improve from 0.99748\n",
      "Epoch 5/1000\n",
      "819/819 [==============================] - 1163s 1s/step - loss: 0.0364 - accuracy: 0.9968\n",
      "\n",
      "Epoch 00005: accuracy did not improve from 0.99748\n",
      "Epoch 6/1000\n",
      "819/819 [==============================] - 1161s 1s/step - loss: 0.0271 - accuracy: 0.9976\n",
      "\n",
      "Epoch 00006: accuracy improved from 0.99748 to 0.99756, saving model to effee44.h5\n",
      "Epoch 7/1000\n",
      "819/819 [==============================] - 1155s 1s/step - loss: 0.0324 - accuracy: 0.9968\n",
      "\n",
      "Epoch 00007: accuracy did not improve from 0.99756\n",
      "Epoch 8/1000\n",
      "819/819 [==============================] - 1155s 1s/step - loss: 0.0361 - accuracy: 0.9971\n",
      "\n",
      "Epoch 00008: accuracy did not improve from 0.99756\n",
      "Epoch 9/1000\n",
      "819/819 [==============================] - 1162s 1s/step - loss: 0.0364 - accuracy: 0.9961\n",
      "\n",
      "Epoch 00009: accuracy did not improve from 0.99756\n",
      "Epoch 10/1000\n",
      "819/819 [==============================] - 1157s 1s/step - loss: 0.0330 - accuracy: 0.9972\n",
      "\n",
      "Epoch 00010: accuracy did not improve from 0.99756\n",
      "Epoch 11/1000\n",
      "819/819 [==============================] - 1158s 1s/step - loss: 0.0354 - accuracy: 0.9971\n",
      "\n",
      "Epoch 00011: accuracy did not improve from 0.99756\n",
      "Epoch 12/1000\n",
      "819/819 [==============================] - 1162s 1s/step - loss: 0.0425 - accuracy: 0.9973\n",
      "\n",
      "Epoch 00012: accuracy did not improve from 0.99756\n",
      "Epoch 13/1000\n",
      "819/819 [==============================] - 1163s 1s/step - loss: 0.0326 - accuracy: 0.9972\n",
      "\n",
      "Epoch 00013: accuracy did not improve from 0.99756\n",
      "Epoch 14/1000\n",
      "819/819 [==============================] - 1159s 1s/step - loss: 0.0313 - accuracy: 0.9975\n",
      "\n",
      "Epoch 00014: accuracy did not improve from 0.99756\n",
      "Epoch 15/1000\n",
      "819/819 [==============================] - 1158s 1s/step - loss: 0.0474 - accuracy: 0.9967\n",
      "\n",
      "Epoch 00015: accuracy did not improve from 0.99756\n",
      "Epoch 16/1000\n",
      "819/819 [==============================] - 1163s 1s/step - loss: 0.0364 - accuracy: 0.9968\n",
      "\n",
      "Epoch 00016: accuracy did not improve from 0.99756\n",
      "Epoch 00016: early stopping\n"
     ]
    },
    {
     "name": "stderr",
     "output_type": "stream",
     "text": [
      "/home/noman/anaconda3/envs/tensor2/lib/python3.7/site-packages/tensorflow/python/keras/engine/training.py:1905: UserWarning: `Model.predict_generator` is deprecated and will be removed in a future version. Please use `Model.predict`, which supports generators.\n",
      "  warnings.warn('`Model.predict_generator` is deprecated and '\n"
     ]
    },
    {
     "name": "stdout",
     "output_type": "stream",
     "text": [
      "              precision    recall  f1-score   support\n",
      "\n",
      "  Amphibolis       1.00      1.00      1.00      1467\n",
      "  Background       1.00      1.00      1.00      1438\n",
      "   Halophila       1.00      1.00      1.00      1066\n",
      "   Posidonia       1.00      1.00      1.00      1258\n",
      "\n",
      "    accuracy                           1.00      5229\n",
      "   macro avg       1.00      1.00      1.00      5229\n",
      "weighted avg       1.00      1.00      1.00      5229\n",
      "\n",
      "[[1467    0    0    0]\n",
      " [   3 1435    0    0]\n",
      " [   0    0 1066    0]\n",
      " [   2    0    0 1256]]\n",
      "Normalized Confusion Matrix\n",
      "[[1.         0.         0.         0.        ]\n",
      " [0.00208623 0.99791377 0.         0.        ]\n",
      " [0.         0.         1.         0.        ]\n",
      " [0.00158983 0.         0.         0.99841017]]\n",
      "****************************************\n"
     ]
    },
    {
     "name": "stderr",
     "output_type": "stream",
     "text": [
      "/home/noman/anaconda3/envs/tensor2/lib/python3.7/site-packages/ipykernel_launcher.py:65: DeprecationWarning: `np.float` is a deprecated alias for the builtin `float`. To silence this warning, use `float` by itself. Doing this will not modify any behavior and is safe. If you specifically wanted the numpy scalar type, use `np.float64` here.\n",
      "Deprecated in NumPy 1.20; for more details and guidance: https://numpy.org/devdocs/release/1.20.0-notes.html#deprecations\n"
     ]
    }
   ],
   "source": [
    "skf = StratifiedKFold(n_splits=5, shuffle=True)\n",
    "skf.get_n_splits(X, Y)\n",
    "foldNum=0\n",
    "for train_index, val_index in skf.split(X, Y):\n",
    "    #First cut all images from validation to train (if any exists)\n",
    "    transferAllClassBetweenFolders('validation', 'train', 1.0)\n",
    "    foldNum+=1\n",
    "    print(\"Results for fold\",foldNum)\n",
    "    X_train, X_val = X[train_index], X[val_index]\n",
    "    Y_train, Y_val = Y[train_index], Y[val_index]\n",
    "    # Move validation images of this fold from train folder to the validation folder\n",
    "    for eachIndex in range(len(X_val)):\n",
    "        classLabel=''\n",
    "        if(Y_val[eachIndex]==0):\n",
    "            classLabel=classLabels[0]\n",
    "        elif(Y_val[eachIndex]==1):\n",
    "            classLabel=classLabels[1]\n",
    "        elif(Y_val[eachIndex]==2):\n",
    "            classLabel=classLabels[2]\n",
    "        else:\n",
    "            classLabel=classLabels[3]   \n",
    "        #Then, copy the validation images to the validation folder\n",
    "        shutil.move(datasetFolderName+'/train/'+classLabel+'/'+X_val[eachIndex], \n",
    "                    datasetFolderName+'/validation/'+classLabel+'/'+X_val[eachIndex])\n",
    "        \n",
    "    train_datagen = ImageDataGenerator(\n",
    "                rescale=1./255,\n",
    "        \t\tzoom_range=0.20,\n",
    "            \tfill_mode=\"nearest\"\n",
    "                )\n",
    "    validation_datagen = ImageDataGenerator(rescale=1./255)\n",
    "    test_datagen = ImageDataGenerator(rescale=1./255)\n",
    "        \n",
    "    #Start ImageClassification Model\n",
    "    train_generator = train_datagen.flow_from_directory(\n",
    "        train_path,\n",
    "        target_size=(img_rows, img_cols),\n",
    "        batch_size=32,\n",
    "        class_mode='categorical',\n",
    "        subset='training')\n",
    "\n",
    "    validation_generator = validation_datagen.flow_from_directory(\n",
    "            validation_path,\n",
    "            target_size=(img_rows, img_cols),\n",
    "            batch_size=32,\n",
    "            class_mode=None,  # only data, no labels\n",
    "            shuffle=False)   \n",
    "   \n",
    "    # fit model\n",
    "    history=model.fit_generator(train_generator, \n",
    "                        epochs=1000, callbacks = [checkpoint, early,csv_logger])\n",
    "    \n",
    "    \n",
    "    \n",
    "    predIdxs = model.predict_generator(validation_generator)\n",
    "    predIdxs = np.argmax(predIdxs, axis=1)\n",
    "        \n",
    "    labels = validation_generator.labels\n",
    "        \n",
    "    # Calculate metrics and confusion matrices for the test images\n",
    "    print(classification_report(labels, predIdxs, target_names=classLabels))\n",
    "    print(confusion_matrix(labels, predIdxs))\n",
    "    print(\"Normalized Confusion Matrix\")\n",
    "    C = confusion_matrix(labels, predIdxs)\n",
    "    print( C / C.astype(np.float).sum(axis=1, keepdims=True) )\n",
    "    \n",
    "    \n",
    "    \n",
    "    #predictions = model.predict_generator(validation_generator, verbose=0)\n",
    "    #yPredictions = np.argmax(predictions, axis=1)\n",
    "    #true_classes = validation_generator.classes\n",
    "    # evaluate validation performance\n",
    "    print(\"****************************************\")    \n",
    "    #valAcc, valPrec, valFScore = my_metrics(true_classes, yPredictions)\n",
    "    \n",
    "    \n",
    "    \n"
   ]
  },
  {
   "cell_type": "code",
   "execution_count": 27,
   "id": "5afc72ed",
   "metadata": {},
   "outputs": [],
   "source": [
    "#model=tf.keras.models.load_model('effee44.h5')\n",
    "test_datagen = ImageDataGenerator(rescale=1./255)"
   ]
  },
  {
   "cell_type": "code",
   "execution_count": 28,
   "id": "63a3b8ad",
   "metadata": {},
   "outputs": [
    {
     "name": "stderr",
     "output_type": "stream",
     "text": [
      "/home/noman/anaconda3/envs/tensor2/lib/python3.7/site-packages/tensorflow/python/keras/engine/training.py:1905: UserWarning: `Model.predict_generator` is deprecated and will be removed in a future version. Please use `Model.predict`, which supports generators.\n",
      "  warnings.warn('`Model.predict_generator` is deprecated and '\n"
     ]
    },
    {
     "name": "stdout",
     "output_type": "stream",
     "text": [
      "              precision    recall  f1-score   support\n",
      "\n",
      "  Amphibolis       0.97      0.95      0.96      9828\n",
      "  Background       0.98      1.00      0.99      5796\n",
      "   Halophila       1.00      1.00      1.00     10260\n",
      "   Posidonia       0.97      0.98      0.97     13320\n",
      "\n",
      "    accuracy                           0.98     39204\n",
      "   macro avg       0.98      0.98      0.98     39204\n",
      "weighted avg       0.98      0.98      0.98     39204\n",
      "\n",
      "[[ 9348    75     2   403]\n",
      " [   16  5779     1     0]\n",
      " [    0    13 10247     0]\n",
      " [  268    18     0 13034]]\n",
      "Normalized Confusion Matrix\n",
      "[[9.51159951e-01 7.63125763e-03 2.03500204e-04 4.10052910e-02]\n",
      " [2.76052450e-03 9.97066943e-01 1.72532781e-04 0.00000000e+00]\n",
      " [0.00000000e+00 1.26705653e-03 9.98732943e-01 0.00000000e+00]\n",
      " [2.01201201e-02 1.35135135e-03 0.00000000e+00 9.78528529e-01]]\n"
     ]
    },
    {
     "name": "stderr",
     "output_type": "stream",
     "text": [
      "/home/noman/anaconda3/envs/tensor2/lib/python3.7/site-packages/ipykernel_launcher.py:13: DeprecationWarning: `np.float` is a deprecated alias for the builtin `float`. To silence this warning, use `float` by itself. Doing this will not modify any behavior and is safe. If you specifically wanted the numpy scalar type, use `np.float64` here.\n",
      "Deprecated in NumPy 1.20; for more details and guidance: https://numpy.org/devdocs/release/1.20.0-notes.html#deprecations\n",
      "  del sys.path[0]\n"
     ]
    }
   ],
   "source": [
    "CLASSES = [ \"Amphibolis\", \"Background\", \"Halophila\",\"Posidonia\",]\n",
    "\n",
    "predIdxs = model.predict_generator(test_generator)\n",
    "predIdxs = np.argmax(predIdxs, axis=1)\n",
    "        \n",
    "labels = test_generator.labels\n",
    "        \n",
    "        # Calculate metrics and confusion matrices for the test images\n",
    "print(classification_report(labels, predIdxs, target_names=CLASSES))\n",
    "print(confusion_matrix(labels, predIdxs))\n",
    "print(\"Normalized Confusion Matrix\")\n",
    "C = confusion_matrix(labels, predIdxs)\n",
    "print( C / C.astype(np.float).sum(axis=1, keepdims=True) )"
   ]
  },
  {
   "cell_type": "code",
   "execution_count": 29,
   "id": "f9ebb249",
   "metadata": {},
   "outputs": [
    {
     "name": "stdout",
     "output_type": "stream",
     "text": [
      "==============TEST RESULTS============\n",
      "Found 39204 images belonging to 4 classes.\n",
      "1226/1226 [==============================] - 612s 499ms/step\n",
      "Accuracy  : 0.979695949392919\n",
      "Precision : 0.9796788619585713\n",
      "f1Score : 0.9796480866686397\n",
      "[[ 9348    75     2   403]\n",
      " [   16  5779     1     0]\n",
      " [    0    13 10247     0]\n",
      " [  268    18     0 13034]]\n"
     ]
    }
   ],
   "source": [
    "test_datagen = ImageDataGenerator(rescale=1./255) \n",
    "\n",
    "# =============TESTING=============\n",
    "print(\"==============TEST RESULTS============\")\n",
    "test_generator = test_datagen.flow_from_directory(\n",
    "        test_path,\n",
    "        target_size=(img_rows, img_cols),\n",
    "        batch_size=32,\n",
    "        class_mode=None,\n",
    "        shuffle=False) \n",
    "predictions = model.predict(test_generator, verbose=1)\n",
    "yPredictions = np.argmax(predictions, axis=1)\n",
    "true_classes = test_generator.classes\n",
    "\n",
    "testAcc,testPrec, testFScore = my_metrics(true_classes, yPredictions)\n",
    "model.save(MODEL_FILENAME)"
   ]
  },
  {
   "cell_type": "code",
   "execution_count": null,
   "id": "561fb40f",
   "metadata": {},
   "outputs": [],
   "source": []
  },
  {
   "cell_type": "code",
   "execution_count": 30,
   "id": "96e3ae13",
   "metadata": {},
   "outputs": [
    {
     "name": "stdout",
     "output_type": "stream",
     "text": [
      "INFO:tensorflow:Assets written to: newnew.pb/assets\n"
     ]
    }
   ],
   "source": [
    "model.save(\"newnew.pb\")"
   ]
  },
  {
   "cell_type": "code",
   "execution_count": 34,
   "id": "78643e3d",
   "metadata": {},
   "outputs": [],
   "source": [
    "model.save(\"modelclass4.h5\")"
   ]
  },
  {
   "cell_type": "code",
   "execution_count": null,
   "id": "e379bd73",
   "metadata": {},
   "outputs": [],
   "source": [
    "test_dir='dataset/test'\n",
    "generator_test = datagen_test.flow_from_directory(directory=test_dir,\n",
    "                                                  target_size=input_shape,\n",
    "                                                  batch_size=batch_size,\n",
    "                                                  shuffle=False)"
   ]
  },
  {
   "cell_type": "code",
   "execution_count": 55,
   "id": "126de76a",
   "metadata": {},
   "outputs": [
    {
     "name": "stdout",
     "output_type": "stream",
     "text": [
      "dict_keys(['loss', 'accuracy'])\n"
     ]
    }
   ],
   "source": [
    "print(history.history.keys())"
   ]
  },
  {
   "cell_type": "code",
   "execution_count": 65,
   "id": "7d5484d0",
   "metadata": {},
   "outputs": [
    {
     "name": "stdout",
     "output_type": "stream",
     "text": [
      "dict_keys(['loss', 'accuracy'])\n"
     ]
    },
    {
     "data": {
      "image/png": "[encoded data removed]",
      "text/plain": [
       "<Figure size 432x288 with 1 Axes>"
      ]
     },
     "metadata": {
      "needs_background": "light"
     },
     "output_type": "display_data"
    },
    {
     "data": {
      "image/png": "[encoded data removed]",
      "text/plain": [
       "<Figure size 432x288 with 1 Axes>"
      ]
     },
     "metadata": {
      "needs_background": "light"
     },
     "output_type": "display_data"
    }
   ],
   "source": [
    "print(history.history.keys())\n",
    "#  \"Accuracy\"\n",
    "plt.plot(history.history['accuracy'])\n",
    "plt.plot(history.history['accuracy'])\n",
    "plt.title('model accuracy')\n",
    "plt.ylabel('accuracy')\n",
    "plt.xlabel('epoch')\n",
    "plt.legend(['train', 'validation'], loc='upper left')\n",
    "plt.show()\n",
    "# \"Loss\"\n",
    "plt.plot(history.history['loss'])\n",
    "plt.plot(history.history['loss'])\n",
    "plt.title('model loss')\n",
    "plt.ylabel('loss')\n",
    "plt.xlabel('epoch')\n",
    "plt.legend(['train', 'validation'], loc='upper left')\n",
    "plt.show()"
   ]
  },
  {
   "cell_type": "code",
   "execution_count": 56,
   "id": "c23085bc",
   "metadata": {},
   "outputs": [],
   "source": [
    "def plot_training_history(history):\n",
    "    # Get the classification accuracy and loss-value\n",
    "    # for the training-set.\n",
    "    acc = history.history['accuracy']\n",
    "    loss = history.history['loss']\n",
    "\n",
    "    # Get it for the validation-set (we only use the test-set).\n",
    "    val_acc = history.history['accuracy']\n",
    "    val_loss = history.history['loss']\n",
    "\n",
    "    # Plot the accuracy and loss-values for the training-set.\n",
    "    plt.plot(acc, linestyle='-', color='b', label='Training Acc.')\n",
    "    plt.plot(loss, 'o', color='b', label='Training Loss')\n",
    "    \n",
    "    # Plot it for the test-set.\n",
    "    plt.plot(val_acc, linestyle='--', color='r', label='Test Acc.')\n",
    "    plt.plot(val_loss, 'o', color='r', label='Test Loss')\n",
    "\n",
    "    # Plot title and legend.\n",
    "    plt.title('Training and Test Accuracy')\n",
    "    plt.legend()\n",
    "\n",
    "    # Ensure the plot shows correctly.\n",
    "    plt.show()"
   ]
  },
  {
   "cell_type": "code",
   "execution_count": 57,
   "id": "5b10c932",
   "metadata": {},
   "outputs": [
    {
     "data": {
      "image/png": "[encoded data removed]",
      "text/plain": [
       "<Figure size 432x288 with 1 Axes>"
      ]
     },
     "metadata": {
      "needs_background": "light"
     },
     "output_type": "display_data"
    }
   ],
   "source": [
    "plot_training_history(history)"
   ]
  },
  {
   "cell_type": "code",
   "execution_count": 76,
   "id": "8bc4b16b",
   "metadata": {},
   "outputs": [],
   "source": [
    "def plot_example_errors(cls_pred):\n",
    "    # cls_pred is an array of the predicted class-number for\n",
    "    # all images in the test-set.\n",
    "\n",
    "    # Boolean array whether the predicted class is incorrect.\n",
    "    incorrect = (cls_pred != cls_test)\n",
    "\n",
    "    # Get the file-paths for images that were incorrectly classified.\n",
    "    image_paths = np.array(image_paths_test)[incorrect]\n",
    "\n",
    "    # Load the first 9 images.\n",
    "    images = load_images(image_paths=image_paths[0:9])\n",
    "    \n",
    "    # Get the predicted classes for those images.\n",
    "    cls_pred = cls_pred[incorrect]\n",
    "\n",
    "    # Get the true classes for those images.\n",
    "    cls_true = cls_test[incorrect]\n",
    "    \n",
    "    # Plot the 9 images we have loaded and their corresponding classes.\n",
    "    # We have only loaded 9 images so there is no need to slice those again.\n",
    "    plot_images(images=images,\n",
    "                cls_true=cls_true[0:9],\n",
    "                cls_pred=cls_pred[0:9])"
   ]
  },
  {
   "cell_type": "code",
   "execution_count": 77,
   "id": "69c23484",
   "metadata": {},
   "outputs": [],
   "source": [
    "\n",
    "\n",
    "def example_errors():\n",
    "    # The Keras data-generator for the test-set must be reset\n",
    "    # before processing. This is because the generator will loop\n",
    "    # infinitely and keep an internal index into the dataset.\n",
    "    # So it might start in the middle of the test-set if we do\n",
    "    # not reset it first. This makes it impossible to match the\n",
    "    # predicted classes with the input images.\n",
    "    # If we reset the generator, then it always starts at the\n",
    "    # beginning so we know exactly which input-images were used.\n",
    "    test_generator.reset()\n",
    "    \n",
    "    # Predict the classes for all images in the test-set.\n",
    "    y_pred = model.predict(test_generator, steps=32)\n",
    "\n",
    "    # Convert the predicted classes from arrays to integers.\n",
    "    cls_pred = np.argmax(y_pred,axis=1)\n",
    "\n",
    "    # Plot examples of mis-classified images.\n",
    "    plot_example_errors(cls_pred)\n",
    "    \n",
    "    # Print the confusion matrix.\n",
    "    print_confusion_matrix(cls_pred)"
   ]
  },
  {
   "cell_type": "code",
   "execution_count": 78,
   "id": "8e6fbd72",
   "metadata": {},
   "outputs": [],
   "source": [
    "#cls_train = generator_train.classes\n",
    "cls_test = test_generator.classes"
   ]
  },
  {
   "cell_type": "code",
   "execution_count": 79,
   "id": "c16c94b5",
   "metadata": {},
   "outputs": [],
   "source": [
    "test_dir='test'\n",
    "image_paths_test = test_generator"
   ]
  },
  {
   "cell_type": "code",
   "execution_count": 80,
   "id": "8b6e5845",
   "metadata": {},
   "outputs": [
    {
     "name": "stderr",
     "output_type": "stream",
     "text": [
      "/home/noman/anaconda3/envs/tensor2/lib/python3.7/site-packages/ipykernel_launcher.py:6: DeprecationWarning: elementwise comparison failed; this will raise an error in the future.\n",
      "  \n"
     ]
    },
    {
     "ename": "MemoryError",
     "evalue": "Unable to allocate 76.1 MiB for an array with shape (32, 456, 456, 3) and data type float32",
     "output_type": "error",
     "traceback": [
      "\u001b[0;31m---------------------------------------------------------------------------\u001b[0m",
      "\u001b[0;31mMemoryError\u001b[0m                               Traceback (most recent call last)",
      "\u001b[0;32m<ipython-input-80-8cd0a043fbc8>\u001b[0m in \u001b[0;36m<module>\u001b[0;34m\u001b[0m\n\u001b[0;32m----> 1\u001b[0;31m \u001b[0mexample_errors\u001b[0m\u001b[0;34m(\u001b[0m\u001b[0;34m)\u001b[0m\u001b[0;34m\u001b[0m\u001b[0;34m\u001b[0m\u001b[0m\n\u001b[0m",
      "\u001b[0;32m<ipython-input-77-eb73edc0c3d3>\u001b[0m in \u001b[0;36mexample_errors\u001b[0;34m()\u001b[0m\n\u001b[1;32m     17\u001b[0m \u001b[0;34m\u001b[0m\u001b[0m\n\u001b[1;32m     18\u001b[0m     \u001b[0;31m# Plot examples of mis-classified images.\u001b[0m\u001b[0;34m\u001b[0m\u001b[0;34m\u001b[0m\u001b[0;34m\u001b[0m\u001b[0m\n\u001b[0;32m---> 19\u001b[0;31m     \u001b[0mplot_example_errors\u001b[0m\u001b[0;34m(\u001b[0m\u001b[0mcls_pred\u001b[0m\u001b[0;34m)\u001b[0m\u001b[0;34m\u001b[0m\u001b[0;34m\u001b[0m\u001b[0m\n\u001b[0m\u001b[1;32m     20\u001b[0m \u001b[0;34m\u001b[0m\u001b[0m\n\u001b[1;32m     21\u001b[0m     \u001b[0;31m# Print the confusion matrix.\u001b[0m\u001b[0;34m\u001b[0m\u001b[0;34m\u001b[0m\u001b[0;34m\u001b[0m\u001b[0m\n",
      "\u001b[0;32m<ipython-input-76-7b327e41f7b2>\u001b[0m in \u001b[0;36mplot_example_errors\u001b[0;34m(cls_pred)\u001b[0m\n\u001b[1;32m      7\u001b[0m \u001b[0;34m\u001b[0m\u001b[0m\n\u001b[1;32m      8\u001b[0m     \u001b[0;31m# Get the file-paths for images that were incorrectly classified.\u001b[0m\u001b[0;34m\u001b[0m\u001b[0;34m\u001b[0m\u001b[0;34m\u001b[0m\u001b[0m\n\u001b[0;32m----> 9\u001b[0;31m     \u001b[0mimage_paths\u001b[0m \u001b[0;34m=\u001b[0m \u001b[0mnp\u001b[0m\u001b[0;34m.\u001b[0m\u001b[0marray\u001b[0m\u001b[0;34m(\u001b[0m\u001b[0mimage_paths_test\u001b[0m\u001b[0;34m)\u001b[0m\u001b[0;34m[\u001b[0m\u001b[0mincorrect\u001b[0m\u001b[0;34m]\u001b[0m\u001b[0;34m\u001b[0m\u001b[0;34m\u001b[0m\u001b[0m\n\u001b[0m\u001b[1;32m     10\u001b[0m \u001b[0;34m\u001b[0m\u001b[0m\n\u001b[1;32m     11\u001b[0m     \u001b[0;31m# Load the first 9 images.\u001b[0m\u001b[0;34m\u001b[0m\u001b[0;34m\u001b[0m\u001b[0;34m\u001b[0m\u001b[0m\n",
      "\u001b[0;32m~/anaconda3/envs/tensor2/lib/python3.7/site-packages/keras_preprocessing/image/iterator.py\u001b[0m in \u001b[0;36m__next__\u001b[0;34m(self, *args, **kwargs)\u001b[0m\n\u001b[1;32m    102\u001b[0m \u001b[0;34m\u001b[0m\u001b[0m\n\u001b[1;32m    103\u001b[0m     \u001b[0;32mdef\u001b[0m \u001b[0m__next__\u001b[0m\u001b[0;34m(\u001b[0m\u001b[0mself\u001b[0m\u001b[0;34m,\u001b[0m \u001b[0;34m*\u001b[0m\u001b[0margs\u001b[0m\u001b[0;34m,\u001b[0m \u001b[0;34m**\u001b[0m\u001b[0mkwargs\u001b[0m\u001b[0;34m)\u001b[0m\u001b[0;34m:\u001b[0m\u001b[0;34m\u001b[0m\u001b[0;34m\u001b[0m\u001b[0m\n\u001b[0;32m--> 104\u001b[0;31m         \u001b[0;32mreturn\u001b[0m \u001b[0mself\u001b[0m\u001b[0;34m.\u001b[0m\u001b[0mnext\u001b[0m\u001b[0;34m(\u001b[0m\u001b[0;34m*\u001b[0m\u001b[0margs\u001b[0m\u001b[0;34m,\u001b[0m \u001b[0;34m**\u001b[0m\u001b[0mkwargs\u001b[0m\u001b[0;34m)\u001b[0m\u001b[0;34m\u001b[0m\u001b[0;34m\u001b[0m\u001b[0m\n\u001b[0m\u001b[1;32m    105\u001b[0m \u001b[0;34m\u001b[0m\u001b[0m\n\u001b[1;32m    106\u001b[0m     \u001b[0;32mdef\u001b[0m \u001b[0mnext\u001b[0m\u001b[0;34m(\u001b[0m\u001b[0mself\u001b[0m\u001b[0;34m)\u001b[0m\u001b[0;34m:\u001b[0m\u001b[0;34m\u001b[0m\u001b[0;34m\u001b[0m\u001b[0m\n",
      "\u001b[0;32m~/anaconda3/envs/tensor2/lib/python3.7/site-packages/keras_preprocessing/image/iterator.py\u001b[0m in \u001b[0;36mnext\u001b[0;34m(self)\u001b[0m\n\u001b[1;32m    114\u001b[0m         \u001b[0;31m# The transformation of images is not under thread lock\u001b[0m\u001b[0;34m\u001b[0m\u001b[0;34m\u001b[0m\u001b[0;34m\u001b[0m\u001b[0m\n\u001b[1;32m    115\u001b[0m         \u001b[0;31m# so it can be done in parallel\u001b[0m\u001b[0;34m\u001b[0m\u001b[0;34m\u001b[0m\u001b[0;34m\u001b[0m\u001b[0m\n\u001b[0;32m--> 116\u001b[0;31m         \u001b[0;32mreturn\u001b[0m \u001b[0mself\u001b[0m\u001b[0;34m.\u001b[0m\u001b[0m_get_batches_of_transformed_samples\u001b[0m\u001b[0;34m(\u001b[0m\u001b[0mindex_array\u001b[0m\u001b[0;34m)\u001b[0m\u001b[0;34m\u001b[0m\u001b[0;34m\u001b[0m\u001b[0m\n\u001b[0m\u001b[1;32m    117\u001b[0m \u001b[0;34m\u001b[0m\u001b[0m\n\u001b[1;32m    118\u001b[0m     \u001b[0;32mdef\u001b[0m \u001b[0m_get_batches_of_transformed_samples\u001b[0m\u001b[0;34m(\u001b[0m\u001b[0mself\u001b[0m\u001b[0;34m,\u001b[0m \u001b[0mindex_array\u001b[0m\u001b[0;34m)\u001b[0m\u001b[0;34m:\u001b[0m\u001b[0;34m\u001b[0m\u001b[0;34m\u001b[0m\u001b[0m\n",
      "\u001b[0;32m~/anaconda3/envs/tensor2/lib/python3.7/site-packages/keras_preprocessing/image/iterator.py\u001b[0m in \u001b[0;36m_get_batches_of_transformed_samples\u001b[0;34m(self, index_array)\u001b[0m\n\u001b[1;32m    220\u001b[0m             \u001b[0mA\u001b[0m \u001b[0mbatch\u001b[0m \u001b[0mof\u001b[0m \u001b[0mtransformed\u001b[0m \u001b[0msamples\u001b[0m\u001b[0;34m.\u001b[0m\u001b[0;34m\u001b[0m\u001b[0;34m\u001b[0m\u001b[0m\n\u001b[1;32m    221\u001b[0m         \"\"\"\n\u001b[0;32m--> 222\u001b[0;31m         \u001b[0mbatch_x\u001b[0m \u001b[0;34m=\u001b[0m \u001b[0mnp\u001b[0m\u001b[0;34m.\u001b[0m\u001b[0mzeros\u001b[0m\u001b[0;34m(\u001b[0m\u001b[0;34m(\u001b[0m\u001b[0mlen\u001b[0m\u001b[0;34m(\u001b[0m\u001b[0mindex_array\u001b[0m\u001b[0;34m)\u001b[0m\u001b[0;34m,\u001b[0m\u001b[0;34m)\u001b[0m \u001b[0;34m+\u001b[0m \u001b[0mself\u001b[0m\u001b[0;34m.\u001b[0m\u001b[0mimage_shape\u001b[0m\u001b[0;34m,\u001b[0m \u001b[0mdtype\u001b[0m\u001b[0;34m=\u001b[0m\u001b[0mself\u001b[0m\u001b[0;34m.\u001b[0m\u001b[0mdtype\u001b[0m\u001b[0;34m)\u001b[0m\u001b[0;34m\u001b[0m\u001b[0;34m\u001b[0m\u001b[0m\n\u001b[0m\u001b[1;32m    223\u001b[0m         \u001b[0;31m# build batch of image data\u001b[0m\u001b[0;34m\u001b[0m\u001b[0;34m\u001b[0m\u001b[0;34m\u001b[0m\u001b[0m\n\u001b[1;32m    224\u001b[0m         \u001b[0;31m# self.filepaths is dynamic, is better to call it once outside the loop\u001b[0m\u001b[0;34m\u001b[0m\u001b[0;34m\u001b[0m\u001b[0;34m\u001b[0m\u001b[0m\n",
      "\u001b[0;31mMemoryError\u001b[0m: Unable to allocate 76.1 MiB for an array with shape (32, 456, 456, 3) and data type float32"
     ]
    }
   ],
   "source": [
    "example_errors()"
   ]
  },
  {
   "cell_type": "code",
   "execution_count": null,
   "id": "0c174bd3",
   "metadata": {},
   "outputs": [],
   "source": []
  },
  {
   "cell_type": "code",
   "execution_count": null,
   "id": "b365c723",
   "metadata": {},
   "outputs": [],
   "source": []
  },
  {
   "cell_type": "code",
   "execution_count": null,
   "id": "c3523c88",
   "metadata": {},
   "outputs": [],
   "source": []
  },
  {
   "cell_type": "code",
   "execution_count": null,
   "id": "258719ed",
   "metadata": {},
   "outputs": [],
   "source": [
    "len(X_train)"
   ]
  },
  {
   "cell_type": "code",
   "execution_count": null,
   "id": "1aef9e2d",
   "metadata": {},
   "outputs": [],
   "source": []
  },
  {
   "cell_type": "code",
   "execution_count": 24,
   "id": "f43ed2ee",
   "metadata": {},
   "outputs": [
    {
     "data": {
      "text/plain": [
       "(34279,)"
      ]
     },
     "execution_count": 24,
     "metadata": {},
     "output_type": "execute_result"
    }
   ],
   "source": [
    "X_train.shape"
   ]
  },
  {
   "cell_type": "code",
   "execution_count": 25,
   "id": "30980312",
   "metadata": {},
   "outputs": [
    {
     "data": {
      "text/plain": [
       "34279"
      ]
     },
     "execution_count": 25,
     "metadata": {},
     "output_type": "execute_result"
    }
   ],
   "source": [
    "len(Y_train)"
   ]
  },
  {
   "cell_type": "code",
   "execution_count": 26,
   "id": "b9a900fb",
   "metadata": {},
   "outputs": [
    {
     "data": {
      "text/plain": [
       "(34279,)"
      ]
     },
     "execution_count": 26,
     "metadata": {},
     "output_type": "execute_result"
    }
   ],
   "source": [
    "Y_train.shape\n"
   ]
  },
  {
   "cell_type": "code",
   "execution_count": 27,
   "id": "df45754e",
   "metadata": {},
   "outputs": [
    {
     "data": {
      "text/plain": [
       "8569"
      ]
     },
     "execution_count": 27,
     "metadata": {},
     "output_type": "execute_result"
    }
   ],
   "source": [
    "len(X_val)"
   ]
  },
  {
   "cell_type": "code",
   "execution_count": 28,
   "id": "5dfd9e2d",
   "metadata": {},
   "outputs": [
    {
     "data": {
      "text/plain": [
       "(8569,)"
      ]
     },
     "execution_count": 28,
     "metadata": {},
     "output_type": "execute_result"
    }
   ],
   "source": [
    "X_val.shape"
   ]
  },
  {
   "cell_type": "code",
   "execution_count": 29,
   "id": "cfabca13",
   "metadata": {},
   "outputs": [
    {
     "data": {
      "text/plain": [
       "8569"
      ]
     },
     "execution_count": 29,
     "metadata": {},
     "output_type": "execute_result"
    }
   ],
   "source": [
    "len(Y_val)"
   ]
  },
  {
   "cell_type": "code",
   "execution_count": 30,
   "id": "e489fefb",
   "metadata": {},
   "outputs": [
    {
     "data": {
      "text/plain": [
       "(8569,)"
      ]
     },
     "execution_count": 30,
     "metadata": {},
     "output_type": "execute_result"
    }
   ],
   "source": [
    "Y_val.shape"
   ]
  },
  {
   "cell_type": "code",
   "execution_count": 31,
   "id": "9cec5dde",
   "metadata": {},
   "outputs": [
    {
     "data": {
      "text/plain": [
       "42848"
      ]
     },
     "execution_count": 31,
     "metadata": {},
     "output_type": "execute_result"
    }
   ],
   "source": [
    "len(X)"
   ]
  },
  {
   "cell_type": "code",
   "execution_count": 32,
   "id": "c9f47d55",
   "metadata": {},
   "outputs": [
    {
     "data": {
      "text/plain": [
       "42848"
      ]
     },
     "execution_count": 32,
     "metadata": {},
     "output_type": "execute_result"
    }
   ],
   "source": [
    "len(Y)"
   ]
  },
  {
   "cell_type": "code",
   "execution_count": 33,
   "id": "afae03c8",
   "metadata": {},
   "outputs": [
    {
     "name": "stdout",
     "output_type": "stream",
     "text": [
      "Strappy\n"
     ]
    }
   ],
   "source": [
    "print(classLabels[2])"
   ]
  },
  {
   "cell_type": "code",
   "execution_count": 35,
   "id": "1ac47915",
   "metadata": {},
   "outputs": [
    {
     "name": "stdout",
     "output_type": "stream",
     "text": [
      "Background\n"
     ]
    }
   ],
   "source": [
    "print(classLabels[0])"
   ]
  },
  {
   "cell_type": "code",
   "execution_count": 38,
   "id": "9973bade",
   "metadata": {},
   "outputs": [
    {
     "name": "stdout",
     "output_type": "stream",
     "text": [
      "Ferny\n"
     ]
    }
   ],
   "source": [
    "print(classLabels[1])"
   ]
  },
  {
   "cell_type": "code",
   "execution_count": 37,
   "id": "5e9fc422",
   "metadata": {},
   "outputs": [
    {
     "name": "stdout",
     "output_type": "stream",
     "text": [
      "Rounded\n"
     ]
    }
   ],
   "source": [
    "print(classLabels[3])"
   ]
  },
  {
   "cell_type": "code",
   "execution_count": 44,
   "id": "8b3448d6",
   "metadata": {},
   "outputs": [
    {
     "name": "stdout",
     "output_type": "stream",
     "text": [
      "              precision    recall  f1-score   support\n",
      "\n",
      "  Background       0.96      0.83      0.89      4943\n",
      "       Ferny       0.86      0.97      0.91      4447\n",
      "     Rounded       0.89      0.89      0.89      1345\n",
      "     Strappy       0.92      0.95      0.93      2643\n",
      "\n",
      "    accuracy                           0.91     13378\n",
      "   macro avg       0.91      0.91      0.91     13378\n",
      "weighted avg       0.91      0.91      0.91     13378\n",
      "\n",
      "[[4087  633   93  130]\n",
      " [   0 4324   23  100]\n",
      " [ 105   42 1195    3]\n",
      " [  46   45   39 2513]]\n",
      "Normalized Confusion Matrix\n",
      "[[0.82682581 0.12805988 0.01881449 0.02629982]\n",
      " [0.         0.9723409  0.00517203 0.02248707]\n",
      " [0.07806691 0.03122677 0.88847584 0.00223048]\n",
      " [0.01740446 0.01702611 0.01475596 0.95081347]]\n"
     ]
    }
   ],
   "source": [
    "CLASSES = [ \"Amphibolis\", \"Background\", \"Halophila\",\"Posidonia\",]\n",
    "\n",
    "predIdxs = model.predict_generator(test_generator)\n",
    "predIdxs = np.argmax(predIdxs, axis=1)\n",
    "        \n",
    "labels = test_generator.labels\n",
    "        \n",
    "        # Calculate metrics and confusion matrices for the test images\n",
    "print(classification_report(labels, predIdxs, target_names=CLASSES))\n",
    "print(confusion_matrix(labels, predIdxs))\n",
    "print(\"Normalized Confusion Matrix\")\n",
    "C = confusion_matrix(labels, predIdxs)\n",
    "print( C / C.astype(np.float).sum(axis=1, keepdims=True) )"
   ]
  },
  {
   "cell_type": "code",
   "execution_count": 56,
   "id": "050c5c92",
   "metadata": {},
   "outputs": [
    {
     "name": "stdout",
     "output_type": "stream",
     "text": [
      "Found 0 images belonging to 0 classes.\n"
     ]
    }
   ],
   "source": [
    "test_path='data/Background/'\n",
    "test_generator = test_datagen.flow_from_directory(\n",
    "        test_path,\n",
    "        target_size=(img_rows, img_cols),\n",
    "        batch_size=32,\n",
    "        class_mode=None,\n",
    "        shuffle=False) "
   ]
  },
  {
   "cell_type": "code",
   "execution_count": null,
   "id": "40886fd7",
   "metadata": {},
   "outputs": [],
   "source": [
    "CLASSES = [ \"Background\", \"Ferny\", \"Rounded\",\"Strappy\",]\n",
    "from sklearn.metrics import classification_report\n",
    "from sklearn.metrics import confusion_matrix\n",
    "predIdxs = model.predict_generator(test_generatorB)\n",
    "predIdxs = np.argmax(predIdxs, axis=1)\n",
    "        \n",
    "labels = test_generator.labels\n",
    "        \n",
    "        # Calculate metrics and confusion matrices for the test images\n",
    "print(classification_report(labels, predIdxs, target_names=CLASSES))\n",
    "print(confusion_matrix(labels, predIdxs))\n",
    "print(\"Normalized Confusion Matrix\")\n",
    "C = confusion_matrix(labels, predIdxs)\n",
    "print( C / C.astype(np.float).sum(axis=1, keepdims=True) )"
   ]
  }
 ],
 "metadata": {
  "kernelspec": {
   "display_name": "Python 3",
   "language": "python",
   "name": "python3"
  },
  "language_info": {
   "codemirror_mode": {
    "name": "ipython",
    "version": 3
   },
   "file_extension": ".py",
   "mimetype": "text/x-python",
   "name": "python",
   "nbconvert_exporter": "python",
   "pygments_lexer": "ipython3",
   "version": "3.8.8"
  }
 },
 "nbformat": 4,
 "nbformat_minor": 5
}
